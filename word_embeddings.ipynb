{
 "cells": [
  {
   "cell_type": "code",
   "execution_count": 1,
   "metadata": {},
   "outputs": [],
   "source": [
    "import numpy as np\n",
    "from tensorflow.keras.preprocessing.text import one_hot\n",
    "from tensorflow.keras.preprocessing.sequence import pad_sequences\n",
    "from tensorflow.keras.models import Sequential\n",
    "from tensorflow.keras.layers import Dense\n",
    "from tensorflow.keras.layers import Flatten\n",
    "from tensorflow.keras.layers import Embedding\n",
    "\n",
    "reviews = ['nice food',\n",
    "        'amazing restaurant',\n",
    "        'too good',\n",
    "        'just loved it!',\n",
    "        'will go again',\n",
    "        'horrible food',\n",
    "        'never go there',\n",
    "        'poor service',\n",
    "        'poor quality',\n",
    "        'needs improvement']\n",
    "\n",
    "sentiment = np.array([1,1,1,1,1,0,0,0,0,0])"
   ]
  },
  {
   "cell_type": "code",
   "execution_count": 3,
   "metadata": {},
   "outputs": [
    {
     "data": {
      "text/plain": [
       "[27, 4]"
      ]
     },
     "execution_count": 3,
     "metadata": {},
     "output_type": "execute_result"
    }
   ],
   "source": [
    "one_hot(\"amazing restaurant\",30)"
   ]
  },
  {
   "cell_type": "code",
   "execution_count": 4,
   "metadata": {},
   "outputs": [
    {
     "name": "stdout",
     "output_type": "stream",
     "text": [
      "[[9, 10], [27, 4], [22, 12], [5, 2, 25], [21, 1, 23], [20, 10], [8, 1, 17], [27, 27], [27, 25], [21, 11]]\n"
     ]
    }
   ],
   "source": [
    "vocab_size = 30\n",
    "encoded_reviews = [one_hot(d, vocab_size) for d in reviews]\n",
    "print(encoded_reviews)"
   ]
  },
  {
   "cell_type": "code",
   "execution_count": 6,
   "metadata": {},
   "outputs": [
    {
     "name": "stdout",
     "output_type": "stream",
     "text": [
      "[[ 9 10  0]\n",
      " [27  4  0]\n",
      " [22 12  0]\n",
      " [ 5  2 25]\n",
      " [21  1 23]\n",
      " [20 10  0]\n",
      " [ 8  1 17]\n",
      " [27 27  0]\n",
      " [27 25  0]\n",
      " [21 11  0]]\n"
     ]
    }
   ],
   "source": [
    "max_length = 3\n",
    "padded_reviews = pad_sequences(encoded_reviews, maxlen=max_length, padding='post')\n",
    "print(padded_reviews)"
   ]
  },
  {
   "cell_type": "code",
   "execution_count": 10,
   "metadata": {},
   "outputs": [],
   "source": [
    "embeded_vector_size = 5\n",
    "\n",
    "model = Sequential()\n",
    "model.add(Embedding(vocab_size, embeded_vector_size, name=\"embedding\"))\n",
    "model.add(Flatten())\n",
    "model.add(Dense(1, activation='sigmoid'))\n"
   ]
  },
  {
   "cell_type": "code",
   "execution_count": 11,
   "metadata": {},
   "outputs": [],
   "source": [
    "X = padded_reviews\n",
    "y = sentiment"
   ]
  },
  {
   "cell_type": "code",
   "execution_count": 12,
   "metadata": {},
   "outputs": [
    {
     "data": {
      "text/html": [
       "<pre style=\"white-space:pre;overflow-x:auto;line-height:normal;font-family:Menlo,'DejaVu Sans Mono',consolas,'Courier New',monospace\"><span style=\"font-weight: bold\">Model: \"sequential_1\"</span>\n",
       "</pre>\n"
      ],
      "text/plain": [
       "\u001b[1mModel: \"sequential_1\"\u001b[0m\n"
      ]
     },
     "metadata": {},
     "output_type": "display_data"
    },
    {
     "data": {
      "text/html": [
       "<pre style=\"white-space:pre;overflow-x:auto;line-height:normal;font-family:Menlo,'DejaVu Sans Mono',consolas,'Courier New',monospace\">┏━━━━━━━━━━━━━━━━━━━━━━━━━━━━━━━━━┳━━━━━━━━━━━━━━━━━━━━━━━━┳━━━━━━━━━━━━━━━┓\n",
       "┃<span style=\"font-weight: bold\"> Layer (type)                    </span>┃<span style=\"font-weight: bold\"> Output Shape           </span>┃<span style=\"font-weight: bold\">       Param # </span>┃\n",
       "┡━━━━━━━━━━━━━━━━━━━━━━━━━━━━━━━━━╇━━━━━━━━━━━━━━━━━━━━━━━━╇━━━━━━━━━━━━━━━┩\n",
       "│ embedding (<span style=\"color: #0087ff; text-decoration-color: #0087ff\">Embedding</span>)           │ ?                      │   <span style=\"color: #00af00; text-decoration-color: #00af00\">0</span> (unbuilt) │\n",
       "├─────────────────────────────────┼────────────────────────┼───────────────┤\n",
       "│ flatten_1 (<span style=\"color: #0087ff; text-decoration-color: #0087ff\">Flatten</span>)             │ ?                      │   <span style=\"color: #00af00; text-decoration-color: #00af00\">0</span> (unbuilt) │\n",
       "├─────────────────────────────────┼────────────────────────┼───────────────┤\n",
       "│ dense_1 (<span style=\"color: #0087ff; text-decoration-color: #0087ff\">Dense</span>)                 │ ?                      │   <span style=\"color: #00af00; text-decoration-color: #00af00\">0</span> (unbuilt) │\n",
       "└─────────────────────────────────┴────────────────────────┴───────────────┘\n",
       "</pre>\n"
      ],
      "text/plain": [
       "┏━━━━━━━━━━━━━━━━━━━━━━━━━━━━━━━━━┳━━━━━━━━━━━━━━━━━━━━━━━━┳━━━━━━━━━━━━━━━┓\n",
       "┃\u001b[1m \u001b[0m\u001b[1mLayer (type)                   \u001b[0m\u001b[1m \u001b[0m┃\u001b[1m \u001b[0m\u001b[1mOutput Shape          \u001b[0m\u001b[1m \u001b[0m┃\u001b[1m \u001b[0m\u001b[1m      Param #\u001b[0m\u001b[1m \u001b[0m┃\n",
       "┡━━━━━━━━━━━━━━━━━━━━━━━━━━━━━━━━━╇━━━━━━━━━━━━━━━━━━━━━━━━╇━━━━━━━━━━━━━━━┩\n",
       "│ embedding (\u001b[38;5;33mEmbedding\u001b[0m)           │ ?                      │   \u001b[38;5;34m0\u001b[0m (unbuilt) │\n",
       "├─────────────────────────────────┼────────────────────────┼───────────────┤\n",
       "│ flatten_1 (\u001b[38;5;33mFlatten\u001b[0m)             │ ?                      │   \u001b[38;5;34m0\u001b[0m (unbuilt) │\n",
       "├─────────────────────────────────┼────────────────────────┼───────────────┤\n",
       "│ dense_1 (\u001b[38;5;33mDense\u001b[0m)                 │ ?                      │   \u001b[38;5;34m0\u001b[0m (unbuilt) │\n",
       "└─────────────────────────────────┴────────────────────────┴───────────────┘\n"
      ]
     },
     "metadata": {},
     "output_type": "display_data"
    },
    {
     "data": {
      "text/html": [
       "<pre style=\"white-space:pre;overflow-x:auto;line-height:normal;font-family:Menlo,'DejaVu Sans Mono',consolas,'Courier New',monospace\"><span style=\"font-weight: bold\"> Total params: </span><span style=\"color: #00af00; text-decoration-color: #00af00\">0</span> (0.00 B)\n",
       "</pre>\n"
      ],
      "text/plain": [
       "\u001b[1m Total params: \u001b[0m\u001b[38;5;34m0\u001b[0m (0.00 B)\n"
      ]
     },
     "metadata": {},
     "output_type": "display_data"
    },
    {
     "data": {
      "text/html": [
       "<pre style=\"white-space:pre;overflow-x:auto;line-height:normal;font-family:Menlo,'DejaVu Sans Mono',consolas,'Courier New',monospace\"><span style=\"font-weight: bold\"> Trainable params: </span><span style=\"color: #00af00; text-decoration-color: #00af00\">0</span> (0.00 B)\n",
       "</pre>\n"
      ],
      "text/plain": [
       "\u001b[1m Trainable params: \u001b[0m\u001b[38;5;34m0\u001b[0m (0.00 B)\n"
      ]
     },
     "metadata": {},
     "output_type": "display_data"
    },
    {
     "data": {
      "text/html": [
       "<pre style=\"white-space:pre;overflow-x:auto;line-height:normal;font-family:Menlo,'DejaVu Sans Mono',consolas,'Courier New',monospace\"><span style=\"font-weight: bold\"> Non-trainable params: </span><span style=\"color: #00af00; text-decoration-color: #00af00\">0</span> (0.00 B)\n",
       "</pre>\n"
      ],
      "text/plain": [
       "\u001b[1m Non-trainable params: \u001b[0m\u001b[38;5;34m0\u001b[0m (0.00 B)\n"
      ]
     },
     "metadata": {},
     "output_type": "display_data"
    },
    {
     "name": "stdout",
     "output_type": "stream",
     "text": [
      "None\n"
     ]
    }
   ],
   "source": [
    "model.compile(optimizer='adam', loss='binary_crossentropy', metrics=['accuracy'])\n",
    "print(model.summary())"
   ]
  },
  {
   "cell_type": "code",
   "execution_count": 13,
   "metadata": {},
   "outputs": [
    {
     "data": {
      "text/plain": [
       "<keras.src.callbacks.history.History at 0x31be9b1d0>"
      ]
     },
     "execution_count": 13,
     "metadata": {},
     "output_type": "execute_result"
    }
   ],
   "source": [
    "model.fit(X, y, epochs=10, verbose=0)"
   ]
  },
  {
   "cell_type": "code",
   "execution_count": 15,
   "metadata": {},
   "outputs": [
    {
     "name": "stdout",
     "output_type": "stream",
     "text": [
      "\u001b[1m1/1\u001b[0m \u001b[32m━━━━━━━━━━━━━━━━━━━━\u001b[0m\u001b[37m\u001b[0m \u001b[1m0s\u001b[0m 10ms/step - accuracy: 0.9000 - loss: 0.6782\n"
     ]
    },
    {
     "data": {
      "text/plain": [
       "0.8999999761581421"
      ]
     },
     "execution_count": 15,
     "metadata": {},
     "output_type": "execute_result"
    }
   ],
   "source": [
    "loss, accuracy = model.evaluate(X, y)\n",
    "accuracy"
   ]
  },
  {
   "cell_type": "code",
   "execution_count": 16,
   "metadata": {},
   "outputs": [
    {
     "data": {
      "text/plain": [
       "[array([[-9.1885580e-03,  2.6506523e-02, -4.2211518e-02,  4.5596141e-02,\n",
       "          5.3464402e-02],\n",
       "        [ 2.2254059e-02, -2.0354291e-02, -1.1287581e-02,  1.6012184e-02,\n",
       "          4.5932621e-02],\n",
       "        [ 2.0493902e-02, -2.1494303e-02,  1.6585316e-03, -3.0758567e-02,\n",
       "         -3.4410596e-02],\n",
       "        [-3.3840977e-02, -1.1685502e-02, -4.4443607e-03,  2.9454235e-02,\n",
       "          3.1664614e-02],\n",
       "        [-3.0669460e-02, -5.1542524e-02,  3.6862327e-03,  5.0392136e-02,\n",
       "          2.3983015e-02],\n",
       "        [-4.5670304e-03, -1.6774699e-02,  4.1047700e-02,  2.6310212e-03,\n",
       "         -6.9058873e-03],\n",
       "        [-2.1604169e-02,  2.3821142e-02, -3.6277659e-03,  4.0271033e-02,\n",
       "         -8.0014952e-03],\n",
       "        [-2.5930023e-02,  1.5165392e-02,  1.2723319e-03, -1.7592490e-02,\n",
       "          6.9078431e-03],\n",
       "        [ 1.3645114e-02,  5.5018503e-02, -5.8050090e-03, -3.8327109e-02,\n",
       "         -1.7723998e-02],\n",
       "        [-2.7255321e-02,  3.5723589e-02,  5.6555439e-02, -5.2002454e-03,\n",
       "          1.4904768e-02],\n",
       "        [-3.5802834e-02, -4.7220904e-02, -4.8854750e-02,  3.5579406e-02,\n",
       "         -2.9164424e-02],\n",
       "        [-2.6340848e-02,  3.2313626e-02,  5.3594332e-02, -5.7292841e-02,\n",
       "         -5.5113010e-02],\n",
       "        [ 2.0100944e-02,  6.5907002e-03, -1.7354855e-02,  3.1395625e-02,\n",
       "         -1.6066246e-02],\n",
       "        [-2.8844655e-02,  2.2592332e-02, -4.6549477e-02,  2.9832158e-02,\n",
       "         -2.0603849e-02],\n",
       "        [-3.6749221e-02, -1.8613100e-02, -3.7735797e-02, -4.0717114e-02,\n",
       "         -2.7915884e-02],\n",
       "        [ 4.5986447e-02,  3.2499637e-02, -2.7188435e-03,  3.8226057e-02,\n",
       "          2.4123598e-02],\n",
       "        [ 2.6867401e-02, -2.9863045e-04, -2.9084563e-02,  3.4750234e-02,\n",
       "         -4.6672832e-02],\n",
       "        [ 1.5355077e-03, -9.1071380e-03,  1.1410758e-02,  7.9362085e-03,\n",
       "          5.0611056e-02],\n",
       "        [-3.5089206e-02, -1.9878937e-02, -2.9693579e-02,  2.0185981e-02,\n",
       "         -2.7148033e-02],\n",
       "        [-3.7875783e-02, -9.8956749e-04,  3.6333408e-02,  3.2325499e-03,\n",
       "          1.3743114e-02],\n",
       "        [-5.6061465e-02, -1.8998191e-02, -5.8846485e-02,  1.5101403e-02,\n",
       "          3.5390221e-02],\n",
       "        [-1.7240820e-02, -2.7721718e-02,  4.3298617e-02,  3.1219730e-02,\n",
       "         -3.1786423e-02],\n",
       "        [ 1.8373575e-02,  1.8074218e-02,  5.2592576e-02, -4.6347342e-02,\n",
       "         -3.0819833e-02],\n",
       "        [ 9.8818159e-03,  5.4287720e-02,  2.1321356e-02, -3.9385874e-02,\n",
       "         -2.0921011e-02],\n",
       "        [-4.9106240e-02, -1.5538715e-02, -4.8818875e-02,  1.9014362e-02,\n",
       "          1.5729193e-02],\n",
       "        [ 1.3606917e-02,  2.0834018e-02,  5.9164543e-02, -5.7448209e-03,\n",
       "         -3.0511249e-02],\n",
       "        [ 4.0832017e-02,  1.2353003e-02, -2.5890768e-05, -2.1717537e-02,\n",
       "          3.7158836e-02],\n",
       "        [ 3.0956915e-02,  1.7791281e-02,  2.7532384e-03, -2.0343704e-02,\n",
       "         -2.7418323e-02],\n",
       "        [ 1.4644973e-03,  7.4624904e-03, -2.0836366e-02, -2.7873432e-02,\n",
       "         -2.5441384e-02],\n",
       "        [-1.8955469e-02, -2.6412571e-02,  1.1846162e-02, -2.5513781e-02,\n",
       "         -1.2076639e-02]], dtype=float32)]"
      ]
     },
     "execution_count": 16,
     "metadata": {},
     "output_type": "execute_result"
    }
   ],
   "source": [
    "model.get_layer('embedding').get_weights()"
   ]
  },
  {
   "cell_type": "code",
   "execution_count": null,
   "metadata": {},
   "outputs": [],
   "source": []
  },
  {
   "cell_type": "code",
   "execution_count": null,
   "metadata": {},
   "outputs": [],
   "source": []
  }
 ],
 "metadata": {
  "kernelspec": {
   "display_name": ".venv",
   "language": "python",
   "name": "python3"
  },
  "language_info": {
   "codemirror_mode": {
    "name": "ipython",
    "version": 3
   },
   "file_extension": ".py",
   "mimetype": "text/x-python",
   "name": "python",
   "nbconvert_exporter": "python",
   "pygments_lexer": "ipython3",
   "version": "3.12.3"
  }
 },
 "nbformat": 4,
 "nbformat_minor": 2
}
